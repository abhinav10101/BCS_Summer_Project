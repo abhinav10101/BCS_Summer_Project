{
 "cells": [
  {
   "cell_type": "markdown",
   "id": "235b5e98",
   "metadata": {},
   "source": [
    "Importing all required libraries"
   ]
  },
  {
   "cell_type": "code",
   "execution_count": null,
   "id": "a21fc629",
   "metadata": {},
   "outputs": [],
   "source": [
    "from collections import deque,namedtuple\n",
    "import random"
   ]
  },
  {
   "cell_type": "markdown",
   "id": "1c26d60e",
   "metadata": {},
   "source": [
    "Replay Buffer setup:"
   ]
  },
  {
   "cell_type": "code",
   "execution_count": null,
   "id": "f4ac7663",
   "metadata": {},
   "outputs": [],
   "source": [
    "Transition = namedtuple('Transition',['state','action','next_state','reward'])\n",
    "class ReplayBuffer(object):\n",
    "    def __init__(self,capacity):\n",
    "        self.memory = deque([],maxlen = capacity)\n",
    "\n",
    "    def push(self,*args):\n",
    "        self.memory.append(Transition(*args))\n",
    "    \n",
    "    def sample(self,batch_size):\n",
    "        return random.sample(self.memory,batch_size)\n",
    "    \n",
    "    def len(self):\n",
    "        return len(self.memory)"
   ]
  },
  {
   "cell_type": "markdown",
   "id": "983fe438",
   "metadata": {},
   "source": [
    "Replay buffer implementation:"
   ]
  },
  {
   "cell_type": "code",
   "execution_count": null,
   "id": "3bd04667",
   "metadata": {},
   "outputs": [],
   "source": [
    "memory = ReplayBuffer(100)\n",
    "for i in range(100):\n",
    "    state = random.randint(0,10)\n",
    "    next_state = random.randint(0,10)\n",
    "    action = random.randint(0,10)\n",
    "    rewards = random.random()\n",
    "    done = random.choice([True,False])\n",
    "    memory.push(state,action,next_state,rewards,done)\n",
    "batch = memory.sample(32)\n",
    "print(len(batch))\n",
    "print(len(batch[0]))\n",
    "print(type(batch[0][0]))\n",
    "print(type(batch[0][1]))\n",
    "print(type(batch[0][2]))\n",
    "print(type(batch[0][3]))\n",
    "print(type(batch[0][4]))\n"
   ]
  },
  {
   "cell_type": "markdown",
   "id": "0063404e",
   "metadata": {},
   "source": [
    "Output:"
   ]
  },
  {
   "cell_type": "markdown",
   "id": "bf6abe09",
   "metadata": {},
   "source": [
    "32\n",
    "5\n",
    "<class 'int'>\n",
    "<class 'int'>\n",
    "<class 'int'>\n",
    "<class 'float'>\n",
    "<class 'bool'>"
   ]
  }
 ],
 "metadata": {
  "kernelspec": {
   "display_name": "penv",
   "language": "python",
   "name": "python3"
  },
  "language_info": {
   "name": "python",
   "version": "3.11.12"
  }
 },
 "nbformat": 4,
 "nbformat_minor": 5
}
