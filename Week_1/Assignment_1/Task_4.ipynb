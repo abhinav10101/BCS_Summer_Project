{
 "cells": [
  {
   "cell_type": "markdown",
   "id": "0bfdca9f",
   "metadata": {},
   "source": [
    "Importing all required libraries"
   ]
  },
  {
   "cell_type": "code",
   "execution_count": null,
   "id": "677b3f3b",
   "metadata": {},
   "outputs": [],
   "source": [
    "import torch\n",
    "import torch.nn as nn\n",
    "import torch.optim as optim\n",
    "import torch.nn.functional as F"
   ]
  },
  {
   "cell_type": "markdown",
   "id": "e7ac417c",
   "metadata": {},
   "source": [
    "Here is the policy network and the target network with the exact same architecture"
   ]
  },
  {
   "cell_type": "code",
   "execution_count": null,
   "id": "401a03bd",
   "metadata": {},
   "outputs": [],
   "source": [
    "class DQNPolicy(nn.Module):\n",
    "\n",
    "    def __init__(self,n_observations,n_actions):\n",
    "        super(DQNPolicy,self).__init__()\n",
    "        self.layer1 = nn.Linear(n_observations,128) #fully connect layer with n_observation neurons connected with 128 neurons\n",
    "        self.layer2 = nn.Linear(128,128) #fully connect layer with 128 neurons connected with 128 neurons\n",
    "        self.layer3 = nn.Linear(128,n_actions) #fully connect layer with 128 neurons connected with n_action neurons\n",
    "    \n",
    "    #passes it through the 3 layer neural network\n",
    "    def forward(self,x):\n",
    "        x = F.relu(self.layer1(x))\n",
    "        x = F.relu(self.layer2(x))\n",
    "        return self.layer3(x)\n",
    "\n",
    "class DQNTarget(nn.Module):\n",
    "\n",
    "    def __init__(self,n_observations,n_actions):\n",
    "        super(DQNTarget,self).__init__()\n",
    "        self.layer1 = nn.Linear(n_observations,128) #fully connect layer with n_observation neurons connected with 128 neurons\n",
    "        self.layer2 = nn.Linear(128,128) #fully connect layer with 128 neurons connected with 128 neurons\n",
    "        self.layer3 = nn.Linear(128,n_actions) #fully connect layer with 128 neurons connected with n_action neurons\n",
    "    \n",
    "    #passes it through the 3 layer neural network\n",
    "    def forward(self,x):\n",
    "        x = F.relu(self.layer1(x))\n",
    "        x = F.relu(self.layer2(x))\n",
    "        return self.layer3(x)\n"
   ]
  },
  {
   "cell_type": "markdown",
   "id": "69d556ca",
   "metadata": {},
   "source": [
    "Here is the function to update the target network with the weights of the policy network"
   ]
  },
  {
   "cell_type": "code",
   "execution_count": null,
   "id": "7e2388ac",
   "metadata": {},
   "outputs": [],
   "source": [
    "def update_target(policy_net,target_net):\n",
    "    target_net.load_state_dict(policy_net.state_dict())"
   ]
  }
 ],
 "metadata": {
  "kernelspec": {
   "display_name": "penv",
   "language": "python",
   "name": "python3"
  },
  "language_info": {
   "name": "python",
   "version": "3.11.12"
  }
 },
 "nbformat": 4,
 "nbformat_minor": 5
}
