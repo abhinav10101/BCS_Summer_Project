{
 "cells": [
  {
   "cell_type": "markdown",
   "id": "1e03a142",
   "metadata": {},
   "source": [
    "Importing all libraries"
   ]
  },
  {
   "cell_type": "code",
   "execution_count": null,
   "id": "ba3414ed",
   "metadata": {},
   "outputs": [],
   "source": [
    "import numpy as np"
   ]
  },
  {
   "cell_type": "code",
   "execution_count": null,
   "id": "d22252e4",
   "metadata": {},
   "outputs": [],
   "source": [
    "class Q_agent():\n",
    "    def __init__(self,n_targets,n_states,n_actions):\n",
    "        self.Q = np.zeros((n_targets,n_states,n_actions))\n",
    "    def q_update(self,m,s,a,r,s_next,alpha,y):\n",
    "        self.Q[m,s][a] += alpha*(r+y*max(self.Q[m,s_next])-self.Q[m,s][a])"
   ]
  }
 ],
 "metadata": {
  "kernelspec": {
   "display_name": "penv",
   "language": "python",
   "name": "python3"
  },
  "language_info": {
   "name": "python",
   "version": "3.11.12"
  }
 },
 "nbformat": 4,
 "nbformat_minor": 5
}
