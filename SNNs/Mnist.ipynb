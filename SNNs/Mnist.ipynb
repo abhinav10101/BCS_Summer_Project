{
 "cells": [
  {
   "cell_type": "code",
   "execution_count": 44,
   "id": "b04a28a3",
   "metadata": {},
   "outputs": [],
   "source": [
    "import pandas as pd\n",
    "import numpy as np\n",
    "import torch\n",
    "\n",
    "# Load and normalize data\n",
    "Train_data = pd.read_csv('/Users/abhinavchhabra/Downloads/mnist_train.csv')\n",
    "Test_data = pd.read_csv('/Users/abhinavchhabra/Downloads/mnist_test.csv')\n",
    "\n",
    "X_train = Train_data.iloc[:, 1:] / 255.0\n",
    "y_train = Train_data.iloc[:, 0]\n",
    "y_train = torch.tensor(y_train)\n",
    "X_test = Test_data.iloc[:, 1:] / 255.0\n",
    "y_test = Test_data.iloc[:, 0]\n",
    "\n",
    "T = 10  # number of timesteps\n",
    "spike_trains = []\n",
    "\n",
    "for i in range(len(X_train)):\n",
    "    image = torch.tensor(X_train.iloc[i].values, dtype=torch.float32)  # shape: (784,)\n",
    "    image = image.unsqueeze(0).repeat(T, 1)  # shape: (T, 784)\n",
    "\n",
    "    noise = torch.rand(T, 784)  # uniform [0, 1)\n",
    "    spike_train = (noise < image).to(torch.uint8)  # shape: (T, 784)\n",
    "\n",
    "    spike_trains.append(spike_train)\n",
    "\n"
   ]
  },
  {
   "cell_type": "markdown",
   "id": "e3c23675",
   "metadata": {},
   "source": [
    "Plotting the spike trains:"
   ]
  },
  {
   "cell_type": "code",
   "execution_count": 53,
   "id": "1ec00c0c",
   "metadata": {},
   "outputs": [
    {
     "name": "stdout",
     "output_type": "stream",
     "text": [
      "torch.Size([10, 784])\n"
     ]
    }
   ],
   "source": [
    "print(spike_trains[0].shape)"
   ]
  },
  {
   "cell_type": "code",
   "execution_count": 78,
   "id": "f70127f9",
   "metadata": {},
   "outputs": [
    {
     "data": {
      "text/plain": [
       "Text(0.5, 0, 'Digit: 0')"
      ]
     },
     "execution_count": 78,
     "metadata": {},
     "output_type": "execute_result"
    },
    {
     "data": {
      "image/png": "[encoded data removed]",
      "text/plain": [
       "<Figure size 640x480 with 1 Axes>"
      ]
     },
     "metadata": {},
     "output_type": "display_data"
    }
   ],
   "source": [
    "from nengo_extras.plot_spikes import plot_spikes\n",
    "import matplotlib.pyplot as plt\n",
    "plot_spikes(np.arange(0, T),spikes=spike_trains[1].reshape(28*28,T))\n",
    "plt.xlabel(f'Digit: {y_train[1]}')"
   ]
  },
  {
   "cell_type": "code",
   "execution_count": 68,
   "id": "bfb47389",
   "metadata": {},
   "outputs": [],
   "source": [
    "\n",
    "import torch.nn.functional as F\n",
    "import torch\n",
    "class LIFLayer():\n",
    "    def __init__(self, input_size, output_size,hidden_size, threshold=1.0, decay=0.9,learning_rate = 0.1):\n",
    "        self.first_layer = torch.randn(784, 128, requires_grad=False) * 0.1\n",
    "        self.second_layer = torch.randn(128,128,requires_grad=False) * 0.1\n",
    "        self.third_layer = torch.randn(128,10,requires_grad=False)*0.1\n",
    "        self.threshold = threshold\n",
    "        self.decay = decay\n",
    "        self.reset_potential = 0.0\n",
    "        self.T = 10\n",
    "        self.spike_1 = []\n",
    "        self.spike_2 = []\n",
    "        self.spike_3 = []\n",
    "        self.potentials_1 = []\n",
    "        self.potentials_2 = []\n",
    "        self.potentials_3 = []\n",
    "        self.lr = learning_rate\n",
    "        self.input_size = input_size\n",
    "        self.output_size = output_size\n",
    "        self.hidden_size = hidden_size\n",
    "    def forward(self, input_spike_train):\n",
    "        # input_spike_train: shape (T, batch_size, input_size)\n",
    "        T, B, _ = input_spike_train.shape\n",
    "        output_1 = []\n",
    "        mem = torch.zeros(B, self.hidden_size)\n",
    "        potentials_1 = []\n",
    "        for t in range(T):\n",
    "            input_t = input_spike_train[t]  # shape: (B, input_size)\n",
    "            current = input_t @ self.first_layer     # synaptic input\n",
    "            mem = self.decay * mem + current\n",
    "\n",
    "            spike = (mem >= self.threshold).float()\n",
    "            mem[spike.bool()] = self.reset_potential\n",
    "            potentials_1.append(mem)\n",
    "            output_1.append(spike)\n",
    "        self.spike_1 = torch.stack(output_1).clone()\n",
    "        self.potentials_1 = torch.stack(potentials_1).clone()\n",
    "        T,B,_ = self.spike_1.shape\n",
    "        output_2 = []\n",
    "        potentials_2 = []\n",
    "        mem = torch.zeros(B, self.hidden_size)\n",
    "        for t in range(T):\n",
    "            input_t = self.spike_1[t]  # shape: (B, input_size)\n",
    "            current = input_t @ self.second_layer     # synaptic input\n",
    "            mem = self.decay * mem + current\n",
    "\n",
    "            spike = (mem >= self.threshold).float()\n",
    "            mem[spike.bool()] = self.reset_potential\n",
    "            potentials_2.append(mem)\n",
    "            output_2.append(spike)\n",
    "        self.spike_2 = torch.stack(output_2).clone()\n",
    "        self.potentials_2 = torch.stack(potentials_2).clone()\n",
    "\n",
    "        T,B,_ = self.spike_2.shape\n",
    "        output_3 = []\n",
    "        potentials_3 = []\n",
    "        mem = torch.zeros(B, self.output_size)\n",
    "        for t in range(T):\n",
    "            input_t = self.spike_2[t]  # shape: (B, input_size)\n",
    "            current = input_t @ self.third_layer     # synaptic input\n",
    "            mem = self.decay * mem + current\n",
    "\n",
    "            spike = (mem >= self.threshold).float()\n",
    "            mem[spike.bool()] = self.reset_potential\n",
    "            potentials_3.append(mem)\n",
    "            output_3.append(spike)\n",
    "        self.spike_3 = torch.stack(output_3).clone()\n",
    "        self.potentials_3 = torch.stack(potentials_3).clone()\n",
    "        return self.spike_3\n",
    "\n",
    "    def surrogate_derivative(self,x):\n",
    "        return 1.0 / (1.0 + 100 * torch.abs(x - self.threshold))**2\n",
    "    def backward(self,x,target):\n",
    "        spike_output_sum = self.spike_3.sum(0)\n",
    "        loss = F.mse_loss(spike_output_sum, target)\n",
    "        grad_W3 = torch.zeros_like(self.third_layer)\n",
    "        grad_W2 = torch.zeros_like(self.second_layer)\n",
    "        grad_W1 = torch.zeros_like(self.first_layer)\n",
    "        grad_output = 2 * (spike_output_sum - target) / 1\n",
    "        for t in range(self.T):\n",
    "            v3 = self.potentials_3[t]\n",
    "            s2 = self.spike_2[t]\n",
    "            surrogate_grad3 = self.surrogate_derivative(v3)\n",
    "\n",
    "            delta3 = grad_output * surrogate_grad3  # (B, out)\n",
    "            grad_W3 += s2.T @ delta3\n",
    "\n",
    "            v2 = self.potentials_2[t]\n",
    "            x2 = self.spike_1[t]\n",
    "            surrogate_grad2 = self.surrogate_derivative(v2)\n",
    "\n",
    "            delta2 = (delta3 @ self.third_layer.T) * surrogate_grad2  # (B, hidden)\n",
    "            grad_W2 += x2.T @ delta2\n",
    "\n",
    "            v1 = self.potentials_1[t]\n",
    "            x1 = x[t]\n",
    "            surrogate_grad1 = self.surrogate_derivative(v1)\n",
    "\n",
    "            delta1 = (delta2 @ self.second_layer.T) * surrogate_grad1\n",
    "            grad_W1 += x1.T @ delta1\n",
    "        self.first_layer -= self.lr * grad_W1\n",
    "        self.second_layer -= self.lr * grad_W2\n",
    "        self.third_layer -= self.lr *grad_W3\n",
    "\n",
    "        return loss.item()\n",
    "\n",
    "\n",
    "\n",
    "\n",
    "        "
   ]
  },
  {
   "cell_type": "code",
   "execution_count": 70,
   "id": "25a38209",
   "metadata": {},
   "outputs": [
    {
     "name": "stdout",
     "output_type": "stream",
     "text": [
      "torch.Size([10, 784])\n"
     ]
    }
   ],
   "source": [
    "print(spike_trains[0].shape)"
   ]
  },
  {
   "cell_type": "code",
   "execution_count": null,
   "id": "e99e975d",
   "metadata": {},
   "outputs": [],
   "source": [
    "model = LIFLayer(784, 10, 128)\n",
    "losses = []\n",
    "for epoch in range(10):\n",
    "    for i in range(len(spike_trains)):\n",
    "        x = spike_trains[i].float().unsqueeze(1)  # shape: (T, 1, 784)\n",
    "        y = F.one_hot(y_train[i], num_classes=10).float().unsqueeze(0)  # shape: (1, 10)\n",
    "        output = model.forward(x)\n",
    "        loss = model.backward(x,y)\n",
    "    losses.append(loss)\n"
   ]
  },
  {
   "cell_type": "code",
   "execution_count": 85,
   "id": "20cfc6e1",
   "metadata": {},
   "outputs": [
    {
     "data": {
      "image/png": "[encoded data removed]",
      "text/plain": [
       "<Figure size 640x480 with 1 Axes>"
      ]
     },
     "metadata": {},
     "output_type": "display_data"
    }
   ],
   "source": [
    "plt.plot(losses)\n",
    "plt.xticks(np.arange(0, T+1, 1))\n",
    "plt.xlabel(\"Epoch No.\")\n",
    "plt.ylabel(\"Loss\")\n",
    "plt.title(\"A graph of loss versus epochs\")\n",
    "plt.show()"
   ]
  },
  {
   "cell_type": "code",
   "execution_count": 80,
   "id": "ff618031",
   "metadata": {},
   "outputs": [
    {
     "name": "stderr",
     "output_type": "stream",
     "text": [
      "/var/folders/dw/lq41h4dj3kg7w54q4lt5c37m0000gn/T/ipykernel_72043/2121057445.py:3: UserWarning: To copy construct from a tensor, it is recommended to use sourceTensor.detach().clone() or sourceTensor.detach().clone().requires_grad_(True), rather than torch.tensor(sourceTensor).\n",
      "  y_test = torch.tensor(y_test)\n"
     ]
    }
   ],
   "source": [
    "T = 10  # number of timesteps\n",
    "spike_tests = []\n",
    "y_test = torch.tensor(y_test)\n",
    "for i in range(len(X_test)):\n",
    "    image = torch.tensor(X_test.iloc[i].values, dtype=torch.float32)  # shape: (784,)\n",
    "    image = image.unsqueeze(0).repeat(T, 1)  # shape: (T, 784)\n",
    "\n",
    "    noise = torch.rand(T, 784)  # uniform [0, 1)\n",
    "    spike_test = (noise < image).to(torch.uint8)  # shape: (T, 784)\n",
    "\n",
    "    spike_tests.append(spike_test)"
   ]
  },
  {
   "cell_type": "code",
   "execution_count": 81,
   "id": "4418040b",
   "metadata": {},
   "outputs": [
    {
     "name": "stdout",
     "output_type": "stream",
     "text": [
      "Accuracy = 99.99\n"
     ]
    }
   ],
   "source": [
    "i = 0\n",
    "for i in range(len(spike_tests)):\n",
    "    x = spike_tests[i].float().unsqueeze(1)  # shape: (T, 1, 784)\n",
    "    output = model.forward(x)\n",
    "    output = torch.argmax(output)\n",
    "    if(output+1 == y_test[i]):\n",
    "        i+= 1\n",
    "print(f\"Accuracy = {(i/len(spike_tests))*100}\")"
   ]
  }
 ],
 "metadata": {
  "kernelspec": {
   "display_name": "penv",
   "language": "python",
   "name": "python3"
  },
  "language_info": {
   "codemirror_mode": {
    "name": "ipython",
    "version": 3
   },
   "file_extension": ".py",
   "mimetype": "text/x-python",
   "name": "python",
   "nbconvert_exporter": "python",
   "pygments_lexer": "ipython3",
   "version": "3.11.12"
  }
 },
 "nbformat": 4,
 "nbformat_minor": 5
}
